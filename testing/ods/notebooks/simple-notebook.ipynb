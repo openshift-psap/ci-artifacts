{
 "cells": [
  {
   "cell_type": "code",
   "execution_count": null,
   "id": "5dfbc88e-343a-48a4-9430-685dd012fa16",
   "metadata": {},
   "outputs": [],
   "source": [
    "# stress test cpu\n",
    "\n",
    "from multiprocessing import Pool\n",
    "import time\n",
    "\n",
    "\n",
    "def f(x):\n",
    "    set_time = 1   # minute\n",
    "    timeout = time.time() + 60*float(set_time)  # X minutes from now\n",
    "    while True:\n",
    "        if time.time() > timeout:\n",
    "            break\n",
    "\n",
    "\n",
    "if __name__ == '__main__':\n",
    "    # processes = psutil.cpu_count()\n",
    "    processes = 1\n",
    "    print('Starting stresstest: utilizing %d core\\n' % processes)\n",
    "    pool = Pool(processes)\n",
    "    pool.map(f, range(processes))\n",
    "    print(\"Finished running stresstest\")"
   ]
  }
 ],
 "metadata": {
  "kernelspec": {
   "display_name": "Python 3 (ipykernel)",
   "language": "python",
   "name": "python3"
  },
  "language_info": {
   "codemirror_mode": {
    "name": "ipython",
    "version": 3
   },
   "file_extension": ".py",
   "mimetype": "text/x-python",
   "name": "python",
   "nbconvert_exporter": "python",
   "pygments_lexer": "ipython3",
   "version": "3.8.8"
  }
 },
 "nbformat": 4,
 "nbformat_minor": 5
}
